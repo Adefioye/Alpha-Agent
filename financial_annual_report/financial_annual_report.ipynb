{
 "cells": [
  {
   "cell_type": "markdown",
   "id": "3fbbd458-e9d6-4607-b9e0-5ba4a07fb175",
   "metadata": {},
   "source": [
    "# Financial analyst agent\n",
    "\n",
    "The job of this agent is to build a financial report with investment analysis, business highlights, risk assessment and chart plotting and ultimately reporting all findings inside a PDF report for business leaders.\n",
    "\n",
    "#### Tasks to be performed\n",
    "- Create a financial analyst prompt\n",
    "- Define tools to be used by the model\n",
    "\n",
    "## TODO\n",
    "- Ensure to set `FMP_API_KEY`, `FINNHUB_API_KEY`, `SEC_API_KEY`"
   ]
  },
  {
   "cell_type": "code",
   "execution_count": 4,
   "id": "ffe5fef1-d9b8-414f-8d4a-13181b887e5a",
   "metadata": {},
   "outputs": [],
   "source": [
    "import sys\n",
    "import os\n",
    "\n",
    "# Add the parent directory to sys.path\n",
    "sys.path.insert(0, os.path.abspath('..'))\n",
    "\n",
    "# Now you can import the module\n",
    "from utils import register_keys_from_json\n",
    "\n",
    "# CONFIG_API_KEY_PATH = \"../config_api_key\"\n",
    "\n",
    "# This runs important enviromental variables\n",
    "# register_keys_from_json(CONFIG_API_KEY_PATH)"
   ]
  },
  {
   "cell_type": "code",
   "execution_count": 16,
   "id": "ad20e83e-7a98-4a4d-867e-f09b26b0f343",
   "metadata": {},
   "outputs": [],
   "source": [
    "# from langchain_core.prompts import ChatPromptTemplate\n",
    "# from langchain_groq import ChatGroq\n",
    "\n",
    "# chat = ChatGroq(\n",
    "#     temperature=0,\n",
    "#     model=\"llama3-70b-8192\"\n",
    "# )\n",
    "\n",
    "# system = \"You are a helpful assistant.\"\n",
    "# human = \"{text}\"\n",
    "# prompt = ChatPromptTemplate.from_messages([(\"system\", system), (\"human\", human)])\n",
    "\n",
    "# chain = prompt | chat\n",
    "# chain.invoke({\"text\": \"Explain the importance of low latency for LLMs.\"})"
   ]
  },
  {
   "cell_type": "code",
   "execution_count": 19,
   "id": "bcbe69fa-af7e-4c44-ab76-d99dfdd39102",
   "metadata": {},
   "outputs": [],
   "source": [
    "# Import classes holding the tools\n",
    "from data_sources import FinnHubUtils, YFinanceUtils, FMPUtils, SECUtils\n",
    "from functional import ReportAnalysisUtils, MplFinanceUtils, ReportChartUtils, ReportLabUtils, TextUtils"
   ]
  },
  {
   "cell_type": "code",
   "execution_count": 21,
   "id": "8ebd8801-441c-42a5-a1e9-94c81354fe8f",
   "metadata": {},
   "outputs": [
    {
     "data": {
      "text/plain": [
       "'get_10k_section'"
      ]
     },
     "execution_count": 21,
     "metadata": {},
     "output_type": "execute_result"
    }
   ],
   "source": [
    "# Assign tools\n",
    "get_sec_report = "
   ]
  },
  {
   "cell_type": "code",
   "execution_count": 25,
   "id": "0295293a-1584-4c02-9640-c0dbd9340d6a",
   "metadata": {},
   "outputs": [],
   "source": []
  },
  {
   "cell_type": "code",
   "execution_count": null,
   "id": "368d5c76-ff8d-4310-b1f9-713a72392e24",
   "metadata": {},
   "outputs": [],
   "source": []
  }
 ],
 "metadata": {
  "kernelspec": {
   "display_name": "Python 3 (ipykernel)",
   "language": "python",
   "name": "python3"
  },
  "language_info": {
   "codemirror_mode": {
    "name": "ipython",
    "version": 3
   },
   "file_extension": ".py",
   "mimetype": "text/x-python",
   "name": "python",
   "nbconvert_exporter": "python",
   "pygments_lexer": "ipython3",
   "version": "3.11.7"
  }
 },
 "nbformat": 4,
 "nbformat_minor": 5
}
