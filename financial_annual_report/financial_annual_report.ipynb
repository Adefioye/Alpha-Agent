{
 "cells": [
  {
   "cell_type": "markdown",
   "id": "3fbbd458-e9d6-4607-b9e0-5ba4a07fb175",
   "metadata": {},
   "source": [
    "# Financial analyst agent\n",
    "\n",
    "The job of this agent is to build a financial report with investment analysis, business highlights, risk assessment and chart plotting and ultimately reporting all findings inside a PDF report for business leaders.\n",
    "\n",
    "#### Tasks to be performed\n",
    "- Create a financial analyst prompt\n",
    "- Define tools to be used by the model\n",
    "\n",
    "## TODO\n",
    "- Set `FMP_API_KEY`\n",
    "- \n"
   ]
  },
  {
   "cell_type": "code",
   "execution_count": null,
   "id": "ffe5fef1-d9b8-414f-8d4a-13181b887e5a",
   "metadata": {},
   "outputs": [],
   "source": []
  }
 ],
 "metadata": {
  "kernelspec": {
   "display_name": "Python 3 (ipykernel)",
   "language": "python",
   "name": "python3"
  },
  "language_info": {
   "codemirror_mode": {
    "name": "ipython",
    "version": 3
   },
   "file_extension": ".py",
   "mimetype": "text/x-python",
   "name": "python",
   "nbconvert_exporter": "python",
   "pygments_lexer": "ipython3",
   "version": "3.11.7"
  }
 },
 "nbformat": 4,
 "nbformat_minor": 5
}
