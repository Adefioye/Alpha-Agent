{
 "cells": [
  {
   "cell_type": "markdown",
   "metadata": {},
   "source": [
    "## RAG Question and Answering over 101 Alpha paper\n",
    "\n",
    "The purpose of this is to generate a structured output based on query on alpha numbers in the paper. The output should provide alpha number, alpha expression and alpha explanation.\n",
    "\n",
    "#### Interesting observations\n",
    "- claude-3-haiku unable to use the instruction and given context to parse a structured output. It generated a `ValidationError`.\n",
    "- claude-3-opus, However was able to understand the instruction and given context to parse a structured output. In fact, it was able to use its internal knowledge to give the step by step explanation on the alpha expression in the paper."
   ]
  },
  {
   "cell_type": "code",
   "execution_count": 1,
   "metadata": {
    "colab": {
     "base_uri": "https://localhost:8080/"
    },
    "id": "aJgKXEHHMe4X",
    "outputId": "6435f32d-0182-4fdc-84db-c73f585064b5"
   },
   "outputs": [],
   "source": [
    "#!pip install gpt4all langchain langchain-core langchain-community langchain-openai faiss-cpu pypdf langchain-anthropic"
   ]
  },
  {
   "cell_type": "code",
   "execution_count": 2,
   "metadata": {
    "id": "tl2QRTx1Vsdm"
   },
   "outputs": [],
   "source": [
    "import os\n",
    "\n",
    "# Optional, add tracing in LangSmith\n",
    "os.environ[\"LANGCHAIN_TRACING_V2\"] = \"true\"\n",
    "os.environ[\"LANGCHAIN_PROJECT\"] = \"Alpha agent project\""
   ]
  },
  {
   "cell_type": "code",
   "execution_count": 3,
   "metadata": {
    "colab": {
     "base_uri": "https://localhost:8080/"
    },
    "collapsed": true,
    "id": "KSuZ5qsIvCp0",
    "jupyter": {
     "outputs_hidden": true
    },
    "outputId": "1a774dbf-d233-458b-9ce4-4343719a0883"
   },
   "outputs": [
    {
     "name": "stdout",
     "output_type": "stream",
     "text": [
      "Pass in LANGCHAIN_API_KEY··········\n",
      "Pass in ANTHROPIC_API_KEY··········\n"
     ]
    }
   ],
   "source": [
    "from getpass import getpass\n",
    "\n",
    "def _set_if_undefined(var: str):\n",
    "    if not os.environ.get(var):\n",
    "        os.environ[var] = getpass(f\"Pass in {var}\")\n",
    "\n",
    "_set_if_undefined(\"LANGCHAIN_API_KEY\")\n",
    "_set_if_undefined(\"ANTHROPIC_API_KEY\")"
   ]
  },
  {
   "cell_type": "code",
   "execution_count": 5,
   "metadata": {
    "colab": {
     "base_uri": "https://localhost:8080/"
    },
    "id": "Gh2eyTrm3FUR",
    "outputId": "39a4689b-7b77-486f-abad-abadc5032b25"
   },
   "outputs": [
    {
     "name": "stdout",
     "output_type": "stream",
     "text": [
      "22\n"
     ]
    }
   ],
   "source": [
    "from langchain_community.document_loaders import PyPDFLoader\n",
    "\n",
    "file_path = \"101-Alpha-Formula.pdf\"\n",
    "loader = PyPDFLoader(file_path)\n",
    "\n",
    "docs = loader.load()\n",
    "\n",
    "print(len(docs))"
   ]
  },
  {
   "cell_type": "code",
   "execution_count": 6,
   "metadata": {
    "colab": {
     "base_uri": "https://localhost:8080/"
    },
    "id": "QRwRcENK3FoM",
    "outputId": "1b6a7fb3-27ed-4108-b7d9-5099da81aefb"
   },
   "outputs": [
    {
     "name": "stdout",
     "output_type": "stream",
     "text": [
      "2 \n",
      " 1.  Introduction \n",
      "There are two complementary – and in some sense eve n competing – trends in modern \n",
      "quantitative trading.  On the one hand, more and mo re market participants (e.g., quantitative \n",
      "traders, inter alia) employ sophisticated quantitat ive techniques to mine alphas. 4  This results in \n",
      "ever fainter and more ephemeral alphas.  On the oth er hand, technological advances allow to \n",
      "essentially automate (much of) the alpha harvesting  process.  This yields an ever increasing \n",
      "number of alphas, whose count can be in hundreds of  thousands and even millions, and with \n",
      "the exponentially increasing progress in this field  will likely be in billions before we know it… \n",
      "This proliferation of alphas – albeit mostly faint and ephemeral – allows combining them in \n",
      "a sophisticated fashion to arrive at a unified “meg a-alpha”.  It is then this “mega-alpha” that is \n",
      "actually traded – as opposed to trading individual alphas – with a bonus of automatic internal \n",
      "crossing of trades (and thereby crucial-for-profita bility savings on trading costs, etc.), alpha \n",
      "portfolio diversification (which hedges against any  subset of alphas going bust in any given time \n",
      "period), and so on.  One of the challenges in combi ning alphas is the usual “too many variables, \n",
      "too few observations” dilemma.  Thus, the alpha sam ple covariance matrix is badly singular. \n",
      "Also, naturally, quantitative trading is a secretiv e field and data and other information from \n",
      "practitioners is not readily available.  This inadv ertently creates an enigma around modern \n",
      "quant trading.  E.g., with such a large number of a lphas, are they not highly correlated with \n",
      "each other?  What do these alphas look like?  Are t hey mostly based on price and volume data, \n",
      "mean-reversion, momentum, etc.?  How do alpha retur ns depend on volatility, turnover, etc.? \n",
      "In a previous paper [Kakushadze and Tulchinsky, 201 5] took a step in demystifying the \n",
      "realm of modern quantitative trading by studying so me empirical properties of 4,000 real-life \n",
      "alphas.  In this paper we take another step and pre sent explicit formulas – that are also \n",
      "computer code – for 101 real-life quant trading alp has.  Our formulaic alphas – albeit most are \n",
      "not necessarily all that “simple” – serve a purpose  of giving the reader a glimpse into what \n",
      "some of the simpler real-life alphas look like. 5  It also enables the reader to replicate and test \n",
      "these alphas on historical data and do new research  and other empirical analyses.  Hopefully, it \n",
      "further inspires (young) researchers to come up wit h new ideas and create their own alphas.   \n",
      "                                                           \n",
      "4 “An alpha is a combination of mathematical express ions, computer source code, and configuration param eters \n",
      "that can be used, in combination with historical da ta, to make predictions about future movements of v arious \n",
      "financial instruments.” [Tulchinsky et al , 2015]  Here “alpha” – following the common trader  lingo – generally \n",
      "means any reasonable “expected return” that one may  wish to trade on and is not necessarily the same a s the \n",
      "“academic” alpha.  In practice, often the detailed information about how alphas are constructed may ev en not be \n",
      "available, e.g., the only data available could be t he position data, so “alpha” then is a set of instr uctions to achieve \n",
      "certain stock (or other instrument) holdings by som e times  2g34722g2459, 2g34722g247′,… (e.g., a tickers by holdings matrix for each 2g34722g3′45). \n",
      " \n",
      "5 We picked these alphas largely based on simplicity  considerations, so they can be presented within th e inherent \n",
      "limitations of a paper.  There also exist myriad ot her, “non-formulaic” (coded and too-complex-to-pres ent) alphas.   \n"
     ]
    }
   ],
   "source": [
    "print(docs[1].page_content)"
   ]
  },
  {
   "cell_type": "code",
   "execution_count": 7,
   "metadata": {
    "colab": {
     "base_uri": "https://localhost:8080/"
    },
    "id": "LkYmCccC3FxG",
    "outputId": "53a4bfcd-884b-4370-f21f-5aceb3d9795a"
   },
   "outputs": [
    {
     "name": "stdout",
     "output_type": "stream",
     "text": [
      "9 \n",
      " Alpha#8:  (-1 * rank(((sum(open, 5) * sum(returns, 5)) - del ay((sum(open, 5) * sum(returns, 5)), \n",
      "10)))) \n",
      "Alpha#9:  ((0 < ts_min(delta(close, 1), 5)) ? delta(close, 1 ) : ((ts_max(delta(close, 1), 5) < 0) ? \n",
      "delta(close, 1) : (-1 * delta(close, 1)))) \n",
      "Alpha#10:  rank(((0 < ts_min(delta(close, 1), 4)) ? delta(clo se, 1) : ((ts_max(delta(close, 1), 4) < 0) \n",
      "? delta(close, 1) : (-1 * delta(close, 1))))) \n",
      "Alpha#11:  ((rank(ts_max((vwap - close), 3)) + rank(ts_min((v wap - close), 3))) * \n",
      "rank(delta(volume, 3))) \n",
      "Alpha#12:  (sign(delta(volume, 1)) * (-1 * delta(close, 1))) \n",
      "Alpha#13:  (-1 * rank(covariance(rank(close), rank(volume), 5 ))) \n",
      "Alpha#14:  ((-1 * rank(delta(returns, 3))) * correlation(open , volume, 10)) \n",
      "Alpha#15:  (-1 * sum(rank(correlation(rank(high), rank(volume ), 3)), 3)) \n",
      "Alpha#16:  (-1 * rank(covariance(rank(high), rank(volume), 5) )) \n",
      "Alpha#17:  (((-1 * rank(ts_rank(close, 10))) * rank(delta(del ta(close, 1), 1))) * \n",
      "rank(ts_rank((volume / adv20), 5))) \n",
      "Alpha#18:  (-1 * rank(((stddev(abs((close - open)), 5) + (clo se - open)) + correlation(close, open, \n",
      "10)))) \n",
      "Alpha#19:  ((-1 * sign(((close - delay(close, 7)) + delta(clo se, 7)))) * (1 + rank((1 + sum(returns, \n",
      "250))))) \n",
      "Alpha#20:  (((-1 * rank((open - delay(high, 1)))) * rank((ope n - delay(close, 1)))) * rank((open - \n",
      "delay(low, 1)))) \n",
      "Alpha#21:  ((((sum(close, 8) / 8) + stddev(close, 8)) < (sum( close, 2) / 2)) ? (-1 * 1) : (((sum(close, \n",
      "2) / 2) < ((sum(close, 8) / 8) - stddev(close, 8)))  ? 1 : (((1 < (volume / adv20)) || ((volume / \n",
      "adv20) == 1)) ? 1 : (-1 * 1)))) \n",
      "Alpha#22:  (-1 * (delta(correlation(high, volume, 5), 5) * ra nk(stddev(close, 20)))) \n",
      "Alpha#23:  (((sum(high, 20) / 20) < high) ? (-1 * delta(high,  2)) : 0) \n",
      "Alpha#24:  ((((delta((sum(close, 100) / 100), 100) / delay(cl ose, 100)) < 0.05) || \n",
      "((delta((sum(close, 100) / 100), 100) / delay(close , 100)) == 0.05)) ? (-1 * (close - ts_min(close, \n",
      "100))) : (-1 * delta(close, 3))) \n"
     ]
    }
   ],
   "source": [
    "print(docs[8].page_content)"
   ]
  },
  {
   "cell_type": "code",
   "execution_count": 16,
   "metadata": {
    "id": "SNGKpNEoZzc6"
   },
   "outputs": [],
   "source": [
    "from langchain.text_splitter import RecursiveCharacterTextSplitter\n",
    "from langchain_community.embeddings import GPT4AllEmbeddings\n",
    "from langchain_community.vectorstores import FAISS\n",
    "import math\n",
    "\n",
    "splitter = RecursiveCharacterTextSplitter(chunk_size=1000, chunk_overlap=200)\n",
    "doc_splits = splitter.split_documents(docs)\n",
    "\n",
    "model_name = \"all-MiniLM-L6-v2.gguf2.f16.gguf\"\n",
    "gpt4all_kwargs = {'allow_download': 'True'}\n",
    "embeddings = GPT4AllEmbeddings(\n",
    "    model_name=model_name,\n",
    "    gpt4all_kwargs=gpt4all_kwargs\n",
    ")\n",
    "\n",
    "# Add to vectorDB\n",
    "vectorstore = FAISS.from_documents(\n",
    "    documents=doc_splits,\n",
    "    embedding=embeddings,\n",
    ")\n",
    "number_of_relevant_docs = math.ceil(0.8 * len(doc_splits))\n",
    "\n",
    "retriever = vectorstore.as_retriever(search_kwargs={'k': number_of_relevant_docs})"
   ]
  },
  {
   "cell_type": "code",
   "execution_count": 17,
   "metadata": {
    "id": "IjRveF0j3XCM"
   },
   "outputs": [],
   "source": [
    "models = ['claude-3-opus-20240229', 'claude-3-5-sonnet-20240620', 'claude-3-sonnet-20240229', 'claude-3-haiku-20240307']"
   ]
  },
  {
   "cell_type": "code",
   "execution_count": 23,
   "metadata": {
    "colab": {
     "base_uri": "https://localhost:8080/",
     "height": 35
    },
    "id": "y-BAikO23XMZ",
    "outputId": "9df3fe46-078e-465b-eb13-4ad0120c574f"
   },
   "outputs": [
    {
     "data": {
      "application/vnd.google.colaboratory.intrinsic+json": {
       "type": "string"
      },
      "text/plain": [
       "'claude-3-opus-20240229'"
      ]
     },
     "execution_count": 23,
     "metadata": {},
     "output_type": "execute_result"
    }
   ],
   "source": [
    "llm_model = models[0]\n",
    "llm_model"
   ]
  },
  {
   "cell_type": "code",
   "execution_count": 24,
   "metadata": {
    "id": "TjE-tuZH3iUT"
   },
   "outputs": [],
   "source": [
    "from langchain_core.prompts import PromptTemplate\n",
    "from langchain_anthropic import ChatAnthropic\n",
    "from langchain_core.pydantic_v1 import BaseModel, Field\n",
    "from langchain_core.runnables import RunnablePassthrough\n",
    "\n",
    "class AlphaInfo(BaseModel):\n",
    "    \"\"\"This contains essential alpha information in the retrieved documents\"\"\"\n",
    "    alpha_number: str = Field(description=\"This is the label of alpha expression in the retrieved documents. For example: Alpha#1, Alpha#2, ...., Alpha#101. \")\n",
    "    alpha_expression: str = Field(description=\"This contains alpha expression in retrieved documents. For example: `(sign(delta(volume, 1)) * (-1 * delta(close, 1)))'. \")\n",
    "    alpha_explanation: str = Field(description=\"Explanation of the alpha expression retrieved. Use your internal knowledge\")\n",
    "\n",
    "template = \"\"\"Use the following pieces of context to answer the question at the end.\n",
    "If you don't know the answer, just say that you don't know, don't try to make up an answer.\n",
    "\n",
    "Here is the context: \\n\n",
    "{context}\n",
    "\n",
    "Question: {question}\n",
    "\"\"\"\n",
    "\n",
    "llm = ChatAnthropic(model=llm_model, default_headers={\"anthropic-beta\": \"tools-2024-04-04\"})\n",
    "prompt = PromptTemplate.from_template(template)\n",
    "# Post-processing\n",
    "def format_docs(docs):\n",
    "    return \"\\n\\n\".join(doc.page_content for doc in docs)\n",
    "\n",
    "rag_chain = (\n",
    "    {\"context\": retriever | format_docs, \"question\": RunnablePassthrough()}\n",
    "    | prompt\n",
    "    | llm.with_structured_output(AlphaInfo)\n",
    ")"
   ]
  },
  {
   "cell_type": "code",
   "execution_count": 25,
   "metadata": {
    "colab": {
     "base_uri": "https://localhost:8080/"
    },
    "id": "A9RvVanL3k18",
    "outputId": "65585b28-b2c7-4599-b4b9-706bc32295ef"
   },
   "outputs": [
    {
     "data": {
      "text/plain": [
       "AlphaInfo(alpha_number='Alpha#1', alpha_expression='(rank(Ts_ArgMax(SignedPower(((returns < 0) ? stddev(returns, 20) : close), 2.), 5)) - 0.5)', alpha_explanation='This alpha expression does the following:\\n1. It calculates the daily returns and checks if the return is negative. \\n2. If the return is negative, it takes the 20-day rolling standard deviation of returns. Otherwise it uses the closing price.\\n3. It then takes the signed power of this value, essentially squaring it but keeping the sign.\\n4. It finds the index of the maximum value of this signed power over the past 5 days.\\n5. It takes the rank of this max index.\\n6. Finally, it subtracts 0.5 from this rank.\\nSo in summary, it is a complex way of ranking stocks based on the maximum of either squared negative volatility or squared price, using the past 5 days of data. The subtraction of 0.5 at the end centers the ranks around 0.')"
      ]
     },
     "execution_count": 25,
     "metadata": {},
     "output_type": "execute_result"
    }
   ],
   "source": [
    "rag_chain.invoke(\"What is Alpha#1\")"
   ]
  },
  {
   "cell_type": "markdown",
   "metadata": {
    "id": "ETjf2GfK4Jex"
   },
   "source": [
    "## Langsmith trace (This allows anybody to look at all the steps required to answer the question)\n",
    "\n",
    "https://smith.langchain.com/public/80dfa37f-f3f1-4bb4-afa7-952a9e413c2b/r"
   ]
  },
  {
   "cell_type": "code",
   "execution_count": null,
   "metadata": {},
   "outputs": [],
   "source": []
  }
 ],
 "metadata": {
  "colab": {
   "provenance": []
  },
  "kernelspec": {
   "display_name": "Python 3 (ipykernel)",
   "language": "python",
   "name": "python3"
  },
  "language_info": {
   "codemirror_mode": {
    "name": "ipython",
    "version": 3
   },
   "file_extension": ".py",
   "mimetype": "text/x-python",
   "name": "python",
   "nbconvert_exporter": "python",
   "pygments_lexer": "ipython3",
   "version": "3.11.7"
  }
 },
 "nbformat": 4,
 "nbformat_minor": 4
}
